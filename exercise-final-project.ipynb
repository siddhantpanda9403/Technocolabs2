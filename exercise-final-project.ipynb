{
 "cells": [
  {
   "cell_type": "markdown",
   "metadata": {
    "papermill": {
     "duration": 0.011424,
     "end_time": "2021-01-31T07:48:35.166429",
     "exception": false,
     "start_time": "2021-01-31T07:48:35.155005",
     "status": "completed"
    },
    "tags": []
   },
   "source": [
    "**This notebook is an exercise in the [Data Visualization](https://www.kaggle.com/learn/data-visualization) course.  You can reference the tutorial at [this link](https://www.kaggle.com/alexisbcook/final-project).**\n",
    "\n",
    "---\n"
   ]
  },
  {
   "cell_type": "markdown",
   "metadata": {
    "papermill": {
     "duration": 0.009432,
     "end_time": "2021-01-31T07:48:35.186441",
     "exception": false,
     "start_time": "2021-01-31T07:48:35.177009",
     "status": "completed"
    },
    "tags": []
   },
   "source": [
    "Now it's time for you to demonstrate your new skills with a project of your own!\n",
    "\n",
    "In this exercise, you will work with a dataset of your choosing.  Once you've selected a dataset, you'll design and create your own plot to tell interesting stories behind the data!\n",
    "\n",
    "## Setup\n",
    "\n",
    "Run the next cell to import and configure the Python libraries that you need to complete the exercise."
   ]
  },
  {
   "cell_type": "code",
   "execution_count": 1,
   "metadata": {
    "execution": {
     "iopub.execute_input": "2021-01-31T07:48:35.209821Z",
     "iopub.status.busy": "2021-01-31T07:48:35.209089Z",
     "iopub.status.idle": "2021-01-31T07:48:36.230695Z",
     "shell.execute_reply": "2021-01-31T07:48:36.233063Z"
    },
    "papermill": {
     "duration": 1.037387,
     "end_time": "2021-01-31T07:48:36.233576",
     "exception": false,
     "start_time": "2021-01-31T07:48:35.196189",
     "status": "completed"
    },
    "tags": []
   },
   "outputs": [
    {
     "name": "stdout",
     "output_type": "stream",
     "text": [
      "Setup Complete\n"
     ]
    }
   ],
   "source": [
    "import pandas as pd\n",
    "pd.plotting.register_matplotlib_converters()\n",
    "import matplotlib.pyplot as plt\n",
    "%matplotlib inline\n",
    "import seaborn as sns\n",
    "print(\"Setup Complete\")"
   ]
  },
  {
   "cell_type": "markdown",
   "metadata": {
    "papermill": {
     "duration": 0.010226,
     "end_time": "2021-01-31T07:48:36.255465",
     "exception": false,
     "start_time": "2021-01-31T07:48:36.245239",
     "status": "completed"
    },
    "tags": []
   },
   "source": [
    "The questions below will give you feedback on your work. Run the following cell to set up the feedback system."
   ]
  },
  {
   "cell_type": "code",
   "execution_count": 2,
   "metadata": {
    "execution": {
     "iopub.execute_input": "2021-01-31T07:48:36.282477Z",
     "iopub.status.busy": "2021-01-31T07:48:36.281737Z",
     "iopub.status.idle": "2021-01-31T07:48:36.331776Z",
     "shell.execute_reply": "2021-01-31T07:48:36.331082Z"
    },
    "papermill": {
     "duration": 0.066222,
     "end_time": "2021-01-31T07:48:36.331958",
     "exception": false,
     "start_time": "2021-01-31T07:48:36.265736",
     "status": "completed"
    },
    "tags": []
   },
   "outputs": [
    {
     "name": "stdout",
     "output_type": "stream",
     "text": [
      "Setup Complete\n"
     ]
    }
   ],
   "source": [
    "# Set up code checking\n",
    "from learntools.core import binder\n",
    "binder.bind(globals())\n",
    "from learntools.data_viz_to_coder.ex7 import *\n",
    "print(\"Setup Complete\")"
   ]
  },
  {
   "cell_type": "markdown",
   "metadata": {
    "papermill": {
     "duration": 0.011183,
     "end_time": "2021-01-31T07:48:36.353982",
     "exception": false,
     "start_time": "2021-01-31T07:48:36.342799",
     "status": "completed"
    },
    "tags": []
   },
   "source": [
    "## Step 1: Attach a dataset to the notebook\n",
    "\n",
    "Begin by selecting a CSV dataset from [Kaggle Datasets](https://www.kaggle.com/datasets).  If you're unsure how to do this or would like to work with your own data, please revisit the instructions in the previous tutorial.\n",
    "\n",
    "Once you have selected a dataset, click on the **[+ Add Data]** option in the top right corner.  This will generate a pop-up window that you can use to search for your chosen dataset.  \n",
    "\n",
    "![ex6_search_dataset](https://i.imgur.com/cIIWPUS.png)\n",
    "\n",
    "Once you have found the dataset, click on the **[Add]** button to attach it to the notebook.  You can check that it was successful by looking at the **Data** dropdown menu to the right of the notebook -- look for an **input** folder containing a subfolder that matches the name of the dataset.\n",
    "\n",
    "<center>\n",
    "<img src=\"https://i.imgur.com/nMYc1Nu.png\" width=30%><br/>\n",
    "</center>\n",
    "\n",
    "You can click on the carat to the left of the name of the dataset to double-check that it contains a CSV file.  For instance, the image below shows that the example dataset contains two CSV files: (1) **dc-wikia-data.csv**, and (2) **marvel-wikia-data.csv**.\n",
    "\n",
    "<center>\n",
    "<img src=\"https://i.imgur.com/B4sJkVA.png\" width=30%><br/>\n",
    "</center>\n",
    "\n",
    "Once you've uploaded a dataset with a CSV file, run the code cell below **without changes** to receive credit for your work!"
   ]
  },
  {
   "cell_type": "code",
   "execution_count": 3,
   "metadata": {
    "execution": {
     "iopub.execute_input": "2021-01-31T07:48:36.379790Z",
     "iopub.status.busy": "2021-01-31T07:48:36.379069Z",
     "iopub.status.idle": "2021-01-31T07:48:36.402521Z",
     "shell.execute_reply": "2021-01-31T07:48:36.403027Z"
    },
    "papermill": {
     "duration": 0.038489,
     "end_time": "2021-01-31T07:48:36.403252",
     "exception": false,
     "start_time": "2021-01-31T07:48:36.364763",
     "status": "completed"
    },
    "tags": []
   },
   "outputs": [
    {
     "data": {
      "application/javascript": [
       "parent.postMessage({\"jupyterEvent\": \"custom.exercise_interaction\", \"data\": {\"outcomeType\": 1, \"valueTowardsCompletion\": 0.25, \"interactionType\": 1, \"questionType\": 2, \"questionId\": \"1_AttachData\", \"learnToolsVersion\": \"0.3.4\", \"failureMessage\": \"\", \"exceptionClass\": \"\", \"trace\": \"\"}}, \"*\")"
      ],
      "text/plain": [
       "<IPython.core.display.Javascript object>"
      ]
     },
     "metadata": {},
     "output_type": "display_data"
    },
    {
     "data": {
      "text/markdown": [
       "<span style=\"color:#33cc33\">Correct:</span> \n",
       "\n"
      ],
      "text/plain": [
       "Correct: \n"
      ]
     },
     "metadata": {},
     "output_type": "display_data"
    }
   ],
   "source": [
    "# Check for a dataset with a CSV file\n",
    "step_1.check()"
   ]
  },
  {
   "cell_type": "markdown",
   "metadata": {
    "papermill": {
     "duration": 0.011827,
     "end_time": "2021-01-31T07:48:36.426855",
     "exception": false,
     "start_time": "2021-01-31T07:48:36.415028",
     "status": "completed"
    },
    "tags": []
   },
   "source": [
    "## Step 2: Specify the filepath\n",
    "\n",
    "Now that the dataset is attached to the notebook, you can find its filepath.  To do this, begin by clicking on the CSV file you'd like to use.  This will open the CSV file in a tab below the notebook.  You can find the filepath towards the top of this new tab.  \n",
    "\n",
    "![ex6_filepath](https://i.imgur.com/fgXQV47.png)\n",
    "\n",
    "After you find the filepath corresponding to your dataset, fill it in as the value for `my_filepath` in the code cell below, and run the code cell to check that you've provided a valid filepath.  For instance, in the case of this example dataset, we would set\n",
    "```\n",
    "my_filepath = \"../input/fivethirtyeight-comic-characters-dataset/dc-wikia-data.csv\"\n",
    "```  \n",
    "Note that **you must enclose the filepath in quotation marks**; otherwise, the code will return an error.\n",
    "\n",
    "Once you've entered the filepath, you can close the tab below the notebook by clicking on the **[X]** at the top of the tab."
   ]
  },
  {
   "cell_type": "code",
   "execution_count": 4,
   "metadata": {
    "execution": {
     "iopub.execute_input": "2021-01-31T07:48:36.455734Z",
     "iopub.status.busy": "2021-01-31T07:48:36.454955Z",
     "iopub.status.idle": "2021-01-31T07:48:36.461181Z",
     "shell.execute_reply": "2021-01-31T07:48:36.461666Z"
    },
    "papermill": {
     "duration": 0.022272,
     "end_time": "2021-01-31T07:48:36.461874",
     "exception": false,
     "start_time": "2021-01-31T07:48:36.439602",
     "status": "completed"
    },
    "tags": []
   },
   "outputs": [
    {
     "data": {
      "application/javascript": [
       "parent.postMessage({\"jupyterEvent\": \"custom.exercise_interaction\", \"data\": {\"outcomeType\": 1, \"valueTowardsCompletion\": 0.25, \"interactionType\": 1, \"questionType\": 2, \"questionId\": \"2_Filepath\", \"learnToolsVersion\": \"0.3.4\", \"failureMessage\": \"\", \"exceptionClass\": \"\", \"trace\": \"\"}}, \"*\")"
      ],
      "text/plain": [
       "<IPython.core.display.Javascript object>"
      ]
     },
     "metadata": {},
     "output_type": "display_data"
    },
    {
     "data": {
      "text/markdown": [
       "<span style=\"color:#33cc33\">Correct:</span> \n",
       "\n"
      ],
      "text/plain": [
       "Correct: \n"
      ]
     },
     "metadata": {},
     "output_type": "display_data"
    }
   ],
   "source": [
    "# Fill in the line below: Specify the path of the CSV file to read\n",
    "my_filepath = \"../input/fivethirtyeight-comic-characters-dataset/dc-wikia-data.csv\"\n",
    "\n",
    "# Check for a valid filepath to a CSV file in a dataset\n",
    "step_2.check()"
   ]
  },
  {
   "cell_type": "markdown",
   "metadata": {
    "papermill": {
     "duration": 0.012929,
     "end_time": "2021-01-31T07:48:36.488232",
     "exception": false,
     "start_time": "2021-01-31T07:48:36.475303",
     "status": "completed"
    },
    "tags": []
   },
   "source": [
    "## Step 3: Load the data\n",
    "\n",
    "Use the next code cell to load your data file into `my_data`.  Use the filepath that you specified in the previous step."
   ]
  },
  {
   "cell_type": "code",
   "execution_count": 5,
   "metadata": {
    "execution": {
     "iopub.execute_input": "2021-01-31T07:48:36.518843Z",
     "iopub.status.busy": "2021-01-31T07:48:36.518074Z",
     "iopub.status.idle": "2021-01-31T07:48:36.610201Z",
     "shell.execute_reply": "2021-01-31T07:48:36.609562Z"
    },
    "papermill": {
     "duration": 0.108915,
     "end_time": "2021-01-31T07:48:36.610355",
     "exception": false,
     "start_time": "2021-01-31T07:48:36.501440",
     "status": "completed"
    },
    "tags": []
   },
   "outputs": [
    {
     "data": {
      "application/javascript": [
       "parent.postMessage({\"jupyterEvent\": \"custom.exercise_interaction\", \"data\": {\"outcomeType\": 1, \"valueTowardsCompletion\": 0.25, \"interactionType\": 1, \"questionType\": 2, \"questionId\": \"3_LoadData\", \"learnToolsVersion\": \"0.3.4\", \"failureMessage\": \"\", \"exceptionClass\": \"\", \"trace\": \"\"}}, \"*\")"
      ],
      "text/plain": [
       "<IPython.core.display.Javascript object>"
      ]
     },
     "metadata": {},
     "output_type": "display_data"
    },
    {
     "data": {
      "text/markdown": [
       "<span style=\"color:#33cc33\">Correct:</span> \n",
       "\n"
      ],
      "text/plain": [
       "Correct: \n"
      ]
     },
     "metadata": {},
     "output_type": "display_data"
    }
   ],
   "source": [
    "# Fill in the line below: Read the file into a variable my_data\n",
    "my_data = pd.read_csv(my_filepath)\n",
    "\n",
    "# Check that a dataset has been uploaded into my_data\n",
    "step_3.check()"
   ]
  },
  {
   "cell_type": "markdown",
   "metadata": {
    "papermill": {
     "duration": 0.015135,
     "end_time": "2021-01-31T07:48:36.639244",
     "exception": false,
     "start_time": "2021-01-31T07:48:36.624109",
     "status": "completed"
    },
    "tags": []
   },
   "source": [
    "**_After the code cell above is marked correct_**, run the code cell below without changes to view the first five rows of the data."
   ]
  },
  {
   "cell_type": "code",
   "execution_count": 6,
   "metadata": {
    "execution": {
     "iopub.execute_input": "2021-01-31T07:48:36.680328Z",
     "iopub.status.busy": "2021-01-31T07:48:36.679607Z",
     "iopub.status.idle": "2021-01-31T07:48:36.711518Z",
     "shell.execute_reply": "2021-01-31T07:48:36.710814Z"
    },
    "papermill": {
     "duration": 0.058459,
     "end_time": "2021-01-31T07:48:36.711672",
     "exception": false,
     "start_time": "2021-01-31T07:48:36.653213",
     "status": "completed"
    },
    "tags": []
   },
   "outputs": [
    {
     "data": {
      "text/html": [
       "<div>\n",
       "<style scoped>\n",
       "    .dataframe tbody tr th:only-of-type {\n",
       "        vertical-align: middle;\n",
       "    }\n",
       "\n",
       "    .dataframe tbody tr th {\n",
       "        vertical-align: top;\n",
       "    }\n",
       "\n",
       "    .dataframe thead th {\n",
       "        text-align: right;\n",
       "    }\n",
       "</style>\n",
       "<table border=\"1\" class=\"dataframe\">\n",
       "  <thead>\n",
       "    <tr style=\"text-align: right;\">\n",
       "      <th></th>\n",
       "      <th>page_id</th>\n",
       "      <th>name</th>\n",
       "      <th>urlslug</th>\n",
       "      <th>ID</th>\n",
       "      <th>ALIGN</th>\n",
       "      <th>EYE</th>\n",
       "      <th>HAIR</th>\n",
       "      <th>SEX</th>\n",
       "      <th>GSM</th>\n",
       "      <th>ALIVE</th>\n",
       "      <th>APPEARANCES</th>\n",
       "      <th>FIRST APPEARANCE</th>\n",
       "      <th>YEAR</th>\n",
       "    </tr>\n",
       "  </thead>\n",
       "  <tbody>\n",
       "    <tr>\n",
       "      <th>0</th>\n",
       "      <td>1422</td>\n",
       "      <td>Batman (Bruce Wayne)</td>\n",
       "      <td>\\/wiki\\/Batman_(Bruce_Wayne)</td>\n",
       "      <td>Secret Identity</td>\n",
       "      <td>Good Characters</td>\n",
       "      <td>Blue Eyes</td>\n",
       "      <td>Black Hair</td>\n",
       "      <td>Male Characters</td>\n",
       "      <td>NaN</td>\n",
       "      <td>Living Characters</td>\n",
       "      <td>3093.0</td>\n",
       "      <td>1939, May</td>\n",
       "      <td>1939.0</td>\n",
       "    </tr>\n",
       "    <tr>\n",
       "      <th>1</th>\n",
       "      <td>23387</td>\n",
       "      <td>Superman (Clark Kent)</td>\n",
       "      <td>\\/wiki\\/Superman_(Clark_Kent)</td>\n",
       "      <td>Secret Identity</td>\n",
       "      <td>Good Characters</td>\n",
       "      <td>Blue Eyes</td>\n",
       "      <td>Black Hair</td>\n",
       "      <td>Male Characters</td>\n",
       "      <td>NaN</td>\n",
       "      <td>Living Characters</td>\n",
       "      <td>2496.0</td>\n",
       "      <td>1986, October</td>\n",
       "      <td>1986.0</td>\n",
       "    </tr>\n",
       "    <tr>\n",
       "      <th>2</th>\n",
       "      <td>1458</td>\n",
       "      <td>Green Lantern (Hal Jordan)</td>\n",
       "      <td>\\/wiki\\/Green_Lantern_(Hal_Jordan)</td>\n",
       "      <td>Secret Identity</td>\n",
       "      <td>Good Characters</td>\n",
       "      <td>Brown Eyes</td>\n",
       "      <td>Brown Hair</td>\n",
       "      <td>Male Characters</td>\n",
       "      <td>NaN</td>\n",
       "      <td>Living Characters</td>\n",
       "      <td>1565.0</td>\n",
       "      <td>1959, October</td>\n",
       "      <td>1959.0</td>\n",
       "    </tr>\n",
       "    <tr>\n",
       "      <th>3</th>\n",
       "      <td>1659</td>\n",
       "      <td>James Gordon (New Earth)</td>\n",
       "      <td>\\/wiki\\/James_Gordon_(New_Earth)</td>\n",
       "      <td>Public Identity</td>\n",
       "      <td>Good Characters</td>\n",
       "      <td>Brown Eyes</td>\n",
       "      <td>White Hair</td>\n",
       "      <td>Male Characters</td>\n",
       "      <td>NaN</td>\n",
       "      <td>Living Characters</td>\n",
       "      <td>1316.0</td>\n",
       "      <td>1987, February</td>\n",
       "      <td>1987.0</td>\n",
       "    </tr>\n",
       "    <tr>\n",
       "      <th>4</th>\n",
       "      <td>1576</td>\n",
       "      <td>Richard Grayson (New Earth)</td>\n",
       "      <td>\\/wiki\\/Richard_Grayson_(New_Earth)</td>\n",
       "      <td>Secret Identity</td>\n",
       "      <td>Good Characters</td>\n",
       "      <td>Blue Eyes</td>\n",
       "      <td>Black Hair</td>\n",
       "      <td>Male Characters</td>\n",
       "      <td>NaN</td>\n",
       "      <td>Living Characters</td>\n",
       "      <td>1237.0</td>\n",
       "      <td>1940, April</td>\n",
       "      <td>1940.0</td>\n",
       "    </tr>\n",
       "  </tbody>\n",
       "</table>\n",
       "</div>"
      ],
      "text/plain": [
       "   page_id                         name                              urlslug  \\\n",
       "0     1422         Batman (Bruce Wayne)         \\/wiki\\/Batman_(Bruce_Wayne)   \n",
       "1    23387        Superman (Clark Kent)        \\/wiki\\/Superman_(Clark_Kent)   \n",
       "2     1458   Green Lantern (Hal Jordan)   \\/wiki\\/Green_Lantern_(Hal_Jordan)   \n",
       "3     1659     James Gordon (New Earth)     \\/wiki\\/James_Gordon_(New_Earth)   \n",
       "4     1576  Richard Grayson (New Earth)  \\/wiki\\/Richard_Grayson_(New_Earth)   \n",
       "\n",
       "                ID            ALIGN         EYE        HAIR              SEX  \\\n",
       "0  Secret Identity  Good Characters   Blue Eyes  Black Hair  Male Characters   \n",
       "1  Secret Identity  Good Characters   Blue Eyes  Black Hair  Male Characters   \n",
       "2  Secret Identity  Good Characters  Brown Eyes  Brown Hair  Male Characters   \n",
       "3  Public Identity  Good Characters  Brown Eyes  White Hair  Male Characters   \n",
       "4  Secret Identity  Good Characters   Blue Eyes  Black Hair  Male Characters   \n",
       "\n",
       "   GSM              ALIVE  APPEARANCES FIRST APPEARANCE    YEAR  \n",
       "0  NaN  Living Characters       3093.0        1939, May  1939.0  \n",
       "1  NaN  Living Characters       2496.0    1986, October  1986.0  \n",
       "2  NaN  Living Characters       1565.0    1959, October  1959.0  \n",
       "3  NaN  Living Characters       1316.0   1987, February  1987.0  \n",
       "4  NaN  Living Characters       1237.0      1940, April  1940.0  "
      ]
     },
     "execution_count": 6,
     "metadata": {},
     "output_type": "execute_result"
    }
   ],
   "source": [
    "# Print the first five rows of the data\n",
    "my_data.head()"
   ]
  },
  {
   "cell_type": "markdown",
   "metadata": {
    "papermill": {
     "duration": 0.01412,
     "end_time": "2021-01-31T07:48:36.740435",
     "exception": false,
     "start_time": "2021-01-31T07:48:36.726315",
     "status": "completed"
    },
    "tags": []
   },
   "source": [
    "## Step 4: Visualize the data\n",
    "\n",
    "Use the next code cell to create a figure that tells a story behind your dataset.  You can use any chart type (_line chart, bar chart, heatmap, etc_) of your choosing!"
   ]
  },
  {
   "cell_type": "code",
   "execution_count": 7,
   "metadata": {
    "execution": {
     "iopub.execute_input": "2021-01-31T07:48:36.777140Z",
     "iopub.status.busy": "2021-01-31T07:48:36.776180Z",
     "iopub.status.idle": "2021-01-31T07:50:50.887454Z",
     "shell.execute_reply": "2021-01-31T07:50:50.887975Z"
    },
    "papermill": {
     "duration": 134.133276,
     "end_time": "2021-01-31T07:50:50.888189",
     "exception": false,
     "start_time": "2021-01-31T07:48:36.754913",
     "status": "completed"
    },
    "tags": []
   },
   "outputs": [
    {
     "data": {
      "application/javascript": [
       "parent.postMessage({\"jupyterEvent\": \"custom.exercise_interaction\", \"data\": {\"outcomeType\": 1, \"valueTowardsCompletion\": 0.25, \"interactionType\": 1, \"questionType\": 2, \"questionId\": \"4_CreatePlot\", \"learnToolsVersion\": \"0.3.4\", \"failureMessage\": \"\", \"exceptionClass\": \"\", \"trace\": \"\"}}, \"*\")"
      ],
      "text/plain": [
       "<IPython.core.display.Javascript object>"
      ]
     },
     "metadata": {},
     "output_type": "display_data"
    },
    {
     "data": {
      "text/markdown": [
       "<span style=\"color:#33cc33\">Correct:</span> \n",
       "\n"
      ],
      "text/plain": [
       "Correct: \n"
      ]
     },
     "metadata": {},
     "output_type": "display_data"
    },
    {
     "data": {
      "image/png": "[encoded data removed]",
      "text/plain": [
       "<Figure size 432x288 with 1 Axes>"
      ]
     },
     "metadata": {
      "needs_background": "light"
     },
     "output_type": "display_data"
    }
   ],
   "source": [
    "# Create a plot\n",
    "sns.scatterplot(x=my_data['name'], y=my_data['APPEARANCES'], hue=my_data['SEX']) # Your code here\n",
    "\n",
    "# Check that a figure appears below\n",
    "step_4.check()"
   ]
  },
  {
   "cell_type": "markdown",
   "metadata": {
    "papermill": {
     "duration": 0.016567,
     "end_time": "2021-01-31T07:50:50.921842",
     "exception": false,
     "start_time": "2021-01-31T07:50:50.905275",
     "status": "completed"
    },
    "tags": []
   },
   "source": [
    "## Keep going\n",
    "\n",
    "Learn how to use your skills after completing the micro-course to create data visualizations in a **[final tutorial](https://www.kaggle.com/alexisbcook/creating-your-own-notebooks)**."
   ]
  },
  {
   "cell_type": "markdown",
   "metadata": {
    "papermill": {
     "duration": 0.016441,
     "end_time": "2021-01-31T07:50:50.955062",
     "exception": false,
     "start_time": "2021-01-31T07:50:50.938621",
     "status": "completed"
    },
    "tags": []
   },
   "source": [
    "---\n",
    "\n",
    "\n",
    "\n",
    "\n",
    "*Have questions or comments? Visit the [Learn Discussion forum](https://www.kaggle.com/learn-forum/161291) to chat with other Learners.*"
   ]
  }
 ],
 "metadata": {
  "kernelspec": {
   "display_name": "Python 3",
   "language": "python",
   "name": "python3"
  },
  "language_info": {
   "codemirror_mode": {
    "name": "ipython",
    "version": 3
   },
   "file_extension": ".py",
   "mimetype": "text/x-python",
   "name": "python",
   "nbconvert_exporter": "python",
   "pygments_lexer": "ipython3",
   "version": "3.7.9"
  },
  "papermill": {
   "default_parameters": {},
   "duration": 143.559004,
   "end_time": "2021-01-31T07:50:52.186358",
   "environment_variables": {},
   "exception": null,
   "input_path": "__notebook__.ipynb",
   "output_path": "__notebook__.ipynb",
   "parameters": {},
   "start_time": "2021-01-31T07:48:28.627354",
   "version": "2.2.2"
  }
 },
 "nbformat": 4,
 "nbformat_minor": 4
}
